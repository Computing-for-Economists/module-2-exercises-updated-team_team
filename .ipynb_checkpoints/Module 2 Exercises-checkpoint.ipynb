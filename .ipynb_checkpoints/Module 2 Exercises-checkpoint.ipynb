{
 "cells": [
  {
   "cell_type": "markdown",
   "metadata": {
    "id": "xxmTcd0PMWSq"
   },
   "source": [
    "# Computing for Economists: Data Wrangling\n",
    "\n",
    "\n",
    "\n"
   ]
  },
  {
   "cell_type": "markdown",
   "metadata": {
    "id": "4uMDHcycMWSq"
   },
   "source": [
    "In this module, we will have you work through the following datasets to analyze social connectedness in Europe. This module is inspired by [Bailey et al. (2020)](https://pages.stern.nyu.edu/~jstroebe/PDF/BJRKSS_EuroSCI.pdf)."
   ]
  },
  {
   "cell_type": "code",
   "execution_count": 3,
   "metadata": {
    "colab": {
     "base_uri": "https://localhost:8080/"
    },
    "id": "diTnxO5eMWSq",
    "outputId": "35d311db-5988-4f8d-c4ee-c6dff03f1d30"
   },
   "outputs": [],
   "source": [
    "### Import Modules\n",
    "import numpy as np\n",
    "import pandas as pd\n",
    "import geopandas as gpd\n",
    "import matplotlib.pyplot as plt\n",
    "import seaborn as sns\n",
    "import itertools\n",
    "import re\n",
    "import os"
   ]
  },
  {
   "cell_type": "markdown",
   "metadata": {
    "id": "Rf-sRXqHMWSr"
   },
   "source": [
    "## Tidying the Data\n",
    "\n",
    "1. The `data` folder contains data from the following sources. Read each of the data files into Python as Pandas DataFrames.\n",
    "  - https://ec.europa.eu/eurostat/en/web/products-datasets/-/EDAT_LFSE_04 \n",
    "    - This data contains the percent of population by educational attainment level, sex, and NUTS 2 regions in the European Union.\n",
    "  - https://ec.europa.eu/eurostat/web/products-datasets/-/nama_10r_2hhinc\n",
    "    - The data contains the income of households by NUTS 2 region.  \n",
    "  - https://ec.europa.eu/eurostat/web/products-datasets/product?code=demo_r_pjanaggr3\n",
    "    - Population by age, group, sex, and NUTS 2 region.\n",
    "  - https://ec.europa.eu/eurostat/web/gisco/geodata/reference-data/administrative-units-statistical-units/nuts\n",
    "    - NUTS region shapefiles (use the geopandas library to read it as a GeoDataFrame).\n",
    "  - https://media.githubusercontent.com/media/social-connectedness-index/euro_sci/master/_intermediate_data/geo_distance_dat.csv\n",
    "    - Distance between pairs of NUTS 2 regions constructed by [Bailey et al. (2020)](https://pages.stern.nyu.edu/~jstroebe/PDF/BJRKSS_EuroSCI.pdf).\n",
    "  - `gadm1_nuts2-gadm1_nuts2-fb-social-connectedness-index-october-2021.tsv` from https://data.humdata.org/dataset/social-connectedness-index\n",
    "    - This file contains the social connectedness index between NUTS 2 regions and all Global Administrative Areas (GADM). We will only consider NUTS 2 to NUTS 2 connections. Social connectedness is a snapshot of Facebook links as of July 2019.\n",
    "    - Note: this file is very large so we recommend reading the file directly into the notebook at the following link: https://data.humdata.org/dataset/e9988552-74e4-4ff4-943f-c782ac8bca87/resource/5de92e01-606e-4e4d-ad7c-4a3d493a0cc3/download/gadm1_nuts2-gadm1_nuts2-fb-social-connectedness-index-october-2021.tsv\n"
   ]
  },
  {
   "cell_type": "markdown",
   "metadata": {
    "id": "O76Qx6NQMWSr"
   },
   "source": [
    "\n",
    "2. Clean the education data (`estat_edat_lfse_04.tsv`) and put it into \"tidy\" format. Check that there is a unique non-missing key for each row. The resulting data should have five columns and 299,088 rows."
   ]
  },
  {
   "cell_type": "markdown",
   "metadata": {
    "id": "GmUibPXdMWSs"
   },
   "source": [
    "3. Do the same for the income data (`estat_nama_10r_2hhinc.tsv`) and the population data (`estat_demo_r_pjanaggr3.tsv`)."
   ]
  },
  {
   "cell_type": "code",
   "execution_count": 15,
   "metadata": {
    "colab": {
     "base_uri": "https://localhost:8080/",
     "height": 400
    },
    "id": "9HYlkboyMWSr",
    "outputId": "b4974597-71b2-4f90-ebfd-62b4488260e3"
   },
   "outputs": [],
   "source": [
    "# 1, 2, 3\n",
    "\n",
    "def load_data_frames(data_folder='data'):\n",
    "    files = os.listdir(data_folder)\n",
    "    data_frames = {}\n",
    "    for file in files:\n",
    "        file_path = os.path.join(data_folder, file)\n",
    "        if file.endswith('.tsv'):\n",
    "            df_name = file.replace('.tsv', '')\n",
    "            data_frames[df_name] = pd.read_csv(file_path, sep='\\t')\n",
    "        elif file.endswith('.csv'):\n",
    "            df_name = file.replace('.csv', '')\n",
    "            data_frames[df_name] = pd.read_csv(file_path)\n",
    "        elif file.endswith('.shp'):\n",
    "            gdf_name = file.replace('.shp', '')\n",
    "            data_frames[gdf_name] = gpd.read_file(file_path)\n",
    "    globals().update(data_frames)\n",
    "\n",
    "def extract_number(value):\n",
    "    match = re.search(r'(\\d+(\\.\\d+)?)', value)\n",
    "    return float(match.group(1)) if match else None\n",
    "\n",
    "def process_dataframe(df):\n",
    "    # Split the first column and set new column names\n",
    "    first_cols = df.iloc[:, 0].str.split(',', expand=True)\n",
    "    first_cols.columns = df.columns[0].split(',')\n",
    "    df = pd.concat([first_cols, df.iloc[:, 1:]], axis=1)\n",
    "    # Rename columns\n",
    "    df.rename(columns={'geo\\\\TIME_PERIOD': 'geo'}, inplace=True)\n",
    "    # Define new column names\n",
    "    new_col_names = first_cols.columns.tolist()[:-1] + ['geo']\n",
    "    # Reshape the DataFrame from wide to long format\n",
    "    tidy_df = pd.melt(df, id_vars=new_col_names[:-1] + ['geo'], var_name='year', value_name='value')\n",
    "    # Clean the 'value' column\n",
    "    tidy_df['value'] = tidy_df['value'].astype(str).apply(extract_number)\n",
    "    # Filter rows where 'sex' is \"T\" if the 'sex' column exists\n",
    "    if 'sex' in tidy_df.columns:\n",
    "        tidy_df = tidy_df.loc[tidy_df['sex'] == \"T\"]\n",
    "    return tidy_df\n",
    "\n",
    "load_data_frames('data')\n",
    "\n",
    "estat_edat_lfse_04_tidy = process_dataframe(estat_edat_lfse_04)\n",
    "estat_nama_10r_2hhinc_tidy = process_dataframe(estat_nama_10r_2hhinc)\n",
    "estat_demo_r_pjanaggr3_tidy = process_dataframe(estat_demo_r_pjanaggr3)"
   ]
  },
  {
   "cell_type": "code",
   "execution_count": 17,
   "metadata": {},
   "outputs": [
    {
     "data": {
      "text/html": [
       "<div>\n",
       "<style scoped>\n",
       "    .dataframe tbody tr th:only-of-type {\n",
       "        vertical-align: middle;\n",
       "    }\n",
       "\n",
       "    .dataframe tbody tr th {\n",
       "        vertical-align: top;\n",
       "    }\n",
       "\n",
       "    .dataframe thead th {\n",
       "        text-align: right;\n",
       "    }\n",
       "</style>\n",
       "<table border=\"1\" class=\"dataframe\">\n",
       "  <thead>\n",
       "    <tr style=\"text-align: right;\">\n",
       "      <th></th>\n",
       "      <th>freq</th>\n",
       "      <th>sex</th>\n",
       "      <th>isced11</th>\n",
       "      <th>age</th>\n",
       "      <th>unit</th>\n",
       "      <th>geo</th>\n",
       "      <th>year</th>\n",
       "      <th>value</th>\n",
       "    </tr>\n",
       "  </thead>\n",
       "  <tbody>\n",
       "    <tr>\n",
       "      <th>24924</th>\n",
       "      <td>A</td>\n",
       "      <td>T</td>\n",
       "      <td>ED0-2</td>\n",
       "      <td>Y20-24</td>\n",
       "      <td>PC</td>\n",
       "      <td>AT</td>\n",
       "      <td>2000</td>\n",
       "      <td>14.9</td>\n",
       "    </tr>\n",
       "    <tr>\n",
       "      <th>24925</th>\n",
       "      <td>A</td>\n",
       "      <td>T</td>\n",
       "      <td>ED0-2</td>\n",
       "      <td>Y20-24</td>\n",
       "      <td>PC</td>\n",
       "      <td>AT1</td>\n",
       "      <td>2000</td>\n",
       "      <td>15.3</td>\n",
       "    </tr>\n",
       "    <tr>\n",
       "      <th>24926</th>\n",
       "      <td>A</td>\n",
       "      <td>T</td>\n",
       "      <td>ED0-2</td>\n",
       "      <td>Y20-24</td>\n",
       "      <td>PC</td>\n",
       "      <td>AT11</td>\n",
       "      <td>2000</td>\n",
       "      <td>NaN</td>\n",
       "    </tr>\n",
       "    <tr>\n",
       "      <th>24927</th>\n",
       "      <td>A</td>\n",
       "      <td>T</td>\n",
       "      <td>ED0-2</td>\n",
       "      <td>Y20-24</td>\n",
       "      <td>PC</td>\n",
       "      <td>AT12</td>\n",
       "      <td>2000</td>\n",
       "      <td>14.8</td>\n",
       "    </tr>\n",
       "    <tr>\n",
       "      <th>24928</th>\n",
       "      <td>A</td>\n",
       "      <td>T</td>\n",
       "      <td>ED0-2</td>\n",
       "      <td>Y20-24</td>\n",
       "      <td>PC</td>\n",
       "      <td>AT13</td>\n",
       "      <td>2000</td>\n",
       "      <td>15.8</td>\n",
       "    </tr>\n",
       "  </tbody>\n",
       "</table>\n",
       "</div>"
      ],
      "text/plain": [
       "      freq sex isced11     age unit   geo   year  value\n",
       "24924    A   T   ED0-2  Y20-24   PC    AT  2000    14.9\n",
       "24925    A   T   ED0-2  Y20-24   PC   AT1  2000    15.3\n",
       "24926    A   T   ED0-2  Y20-24   PC  AT11  2000     NaN\n",
       "24927    A   T   ED0-2  Y20-24   PC  AT12  2000    14.8\n",
       "24928    A   T   ED0-2  Y20-24   PC  AT13  2000    15.8"
      ]
     },
     "execution_count": 17,
     "metadata": {},
     "output_type": "execute_result"
    }
   ],
   "source": [
    "estat_edat_lfse_04_tidy.head()"
   ]
  },
  {
   "cell_type": "code",
   "execution_count": 18,
   "metadata": {},
   "outputs": [
    {
     "data": {
      "text/html": [
       "<div>\n",
       "<style scoped>\n",
       "    .dataframe tbody tr th:only-of-type {\n",
       "        vertical-align: middle;\n",
       "    }\n",
       "\n",
       "    .dataframe tbody tr th {\n",
       "        vertical-align: top;\n",
       "    }\n",
       "\n",
       "    .dataframe thead th {\n",
       "        text-align: right;\n",
       "    }\n",
       "</style>\n",
       "<table border=\"1\" class=\"dataframe\">\n",
       "  <thead>\n",
       "    <tr style=\"text-align: right;\">\n",
       "      <th></th>\n",
       "      <th>freq</th>\n",
       "      <th>unit</th>\n",
       "      <th>direct</th>\n",
       "      <th>na_item</th>\n",
       "      <th>geo</th>\n",
       "      <th>year</th>\n",
       "      <th>value</th>\n",
       "    </tr>\n",
       "  </thead>\n",
       "  <tbody>\n",
       "    <tr>\n",
       "      <th>0</th>\n",
       "      <td>A</td>\n",
       "      <td>EUR_HAB</td>\n",
       "      <td>BAL</td>\n",
       "      <td>B5N</td>\n",
       "      <td>AT</td>\n",
       "      <td>1995</td>\n",
       "      <td>NaN</td>\n",
       "    </tr>\n",
       "    <tr>\n",
       "      <th>1</th>\n",
       "      <td>A</td>\n",
       "      <td>EUR_HAB</td>\n",
       "      <td>BAL</td>\n",
       "      <td>B5N</td>\n",
       "      <td>AT1</td>\n",
       "      <td>1995</td>\n",
       "      <td>NaN</td>\n",
       "    </tr>\n",
       "    <tr>\n",
       "      <th>2</th>\n",
       "      <td>A</td>\n",
       "      <td>EUR_HAB</td>\n",
       "      <td>BAL</td>\n",
       "      <td>B5N</td>\n",
       "      <td>AT11</td>\n",
       "      <td>1995</td>\n",
       "      <td>NaN</td>\n",
       "    </tr>\n",
       "    <tr>\n",
       "      <th>3</th>\n",
       "      <td>A</td>\n",
       "      <td>EUR_HAB</td>\n",
       "      <td>BAL</td>\n",
       "      <td>B5N</td>\n",
       "      <td>AT12</td>\n",
       "      <td>1995</td>\n",
       "      <td>NaN</td>\n",
       "    </tr>\n",
       "    <tr>\n",
       "      <th>4</th>\n",
       "      <td>A</td>\n",
       "      <td>EUR_HAB</td>\n",
       "      <td>BAL</td>\n",
       "      <td>B5N</td>\n",
       "      <td>AT13</td>\n",
       "      <td>1995</td>\n",
       "      <td>NaN</td>\n",
       "    </tr>\n",
       "  </tbody>\n",
       "</table>\n",
       "</div>"
      ],
      "text/plain": [
       "  freq     unit direct na_item   geo   year  value\n",
       "0    A  EUR_HAB    BAL     B5N    AT  1995     NaN\n",
       "1    A  EUR_HAB    BAL     B5N   AT1  1995     NaN\n",
       "2    A  EUR_HAB    BAL     B5N  AT11  1995     NaN\n",
       "3    A  EUR_HAB    BAL     B5N  AT12  1995     NaN\n",
       "4    A  EUR_HAB    BAL     B5N  AT13  1995     NaN"
      ]
     },
     "execution_count": 18,
     "metadata": {},
     "output_type": "execute_result"
    }
   ],
   "source": [
    "estat_nama_10r_2hhinc_tidy.head()"
   ]
  },
  {
   "cell_type": "code",
   "execution_count": 19,
   "metadata": {
    "colab": {
     "base_uri": "https://localhost:8080/",
     "height": 206
    },
    "id": "U-YNM89sMWSs",
    "outputId": "69c6dabc-09a7-48e1-b2c6-2a2f0aa2a672"
   },
   "outputs": [
    {
     "data": {
      "text/html": [
       "<div>\n",
       "<style scoped>\n",
       "    .dataframe tbody tr th:only-of-type {\n",
       "        vertical-align: middle;\n",
       "    }\n",
       "\n",
       "    .dataframe tbody tr th {\n",
       "        vertical-align: top;\n",
       "    }\n",
       "\n",
       "    .dataframe thead th {\n",
       "        text-align: right;\n",
       "    }\n",
       "</style>\n",
       "<table border=\"1\" class=\"dataframe\">\n",
       "  <thead>\n",
       "    <tr style=\"text-align: right;\">\n",
       "      <th></th>\n",
       "      <th>freq</th>\n",
       "      <th>unit</th>\n",
       "      <th>sex</th>\n",
       "      <th>age</th>\n",
       "      <th>geo</th>\n",
       "      <th>year</th>\n",
       "      <th>value</th>\n",
       "    </tr>\n",
       "  </thead>\n",
       "  <tbody>\n",
       "    <tr>\n",
       "      <th>20820</th>\n",
       "      <td>A</td>\n",
       "      <td>NR</td>\n",
       "      <td>T</td>\n",
       "      <td>TOTAL</td>\n",
       "      <td>AL</td>\n",
       "      <td>1990</td>\n",
       "      <td>3286500.0</td>\n",
       "    </tr>\n",
       "    <tr>\n",
       "      <th>20821</th>\n",
       "      <td>A</td>\n",
       "      <td>NR</td>\n",
       "      <td>T</td>\n",
       "      <td>TOTAL</td>\n",
       "      <td>AL0</td>\n",
       "      <td>1990</td>\n",
       "      <td>3286500.0</td>\n",
       "    </tr>\n",
       "    <tr>\n",
       "      <th>20822</th>\n",
       "      <td>A</td>\n",
       "      <td>NR</td>\n",
       "      <td>T</td>\n",
       "      <td>TOTAL</td>\n",
       "      <td>AL01</td>\n",
       "      <td>1990</td>\n",
       "      <td>NaN</td>\n",
       "    </tr>\n",
       "    <tr>\n",
       "      <th>20823</th>\n",
       "      <td>A</td>\n",
       "      <td>NR</td>\n",
       "      <td>T</td>\n",
       "      <td>TOTAL</td>\n",
       "      <td>AL011</td>\n",
       "      <td>1990</td>\n",
       "      <td>NaN</td>\n",
       "    </tr>\n",
       "    <tr>\n",
       "      <th>20824</th>\n",
       "      <td>A</td>\n",
       "      <td>NR</td>\n",
       "      <td>T</td>\n",
       "      <td>TOTAL</td>\n",
       "      <td>AL012</td>\n",
       "      <td>1990</td>\n",
       "      <td>NaN</td>\n",
       "    </tr>\n",
       "  </tbody>\n",
       "</table>\n",
       "</div>"
      ],
      "text/plain": [
       "      freq unit sex    age    geo   year      value\n",
       "20820    A   NR   T  TOTAL     AL  1990   3286500.0\n",
       "20821    A   NR   T  TOTAL    AL0  1990   3286500.0\n",
       "20822    A   NR   T  TOTAL   AL01  1990         NaN\n",
       "20823    A   NR   T  TOTAL  AL011  1990         NaN\n",
       "20824    A   NR   T  TOTAL  AL012  1990         NaN"
      ]
     },
     "execution_count": 19,
     "metadata": {},
     "output_type": "execute_result"
    }
   ],
   "source": [
    "estat_demo_r_pjanaggr3_tidy.head()"
   ]
  },
  {
   "cell_type": "markdown",
   "metadata": {
    "id": "n8Tqm4m1MWSs"
   },
   "source": [
    "4. Outer join the percent of the population age 25 to 64 in a NUTS 2 region receiving a tertiary education with the income per capita in purchasing power standard (PPS). Then outer join the education and income data with population data for the total population (for sex and age). Only include data at the NUTS 2 level.\n",
    "\n",
    "  To obtain the income per capita in PPS, the national account should be the \"balance of primary incomes/national income, net\" and the direction of flow should be the \"balance\"."
   ]
  },
  {
   "cell_type": "markdown",
   "metadata": {
    "id": "uEvKBzrEMWSs"
   },
   "source": [
    "5. For each pair of NUTS 2 regions, obtain the absolute difference in the two variables constructed in problem 4 in 2019. Drop the French islands (starts with NUTS 2 region code \"FRY\").\n"
   ]
  },
  {
   "cell_type": "markdown",
   "metadata": {
    "id": "1Wli7tn0MWSs"
   },
   "source": [
    "6. Now we will merge the the 2019 data with the SCI data and the pairwise distance data. Create a dataframe with one row for each pair of NUTS 2 regions (as two separate columns) and the following variables:\n",
    "\n",
    "*   Log scaled SCI\n",
    "*   Log distance (add 1 to avoid zeros)\n",
    "*   Percent tertiary education for User and Friend NUTS 2\n",
    "*   Income per capita for User and Friend NUTS 2\n",
    "*   Population for User and Friend NUTS 2\n",
    "*   Absolute difference in tertiary education between User and Friend NUTS 2\n",
    "*   Absolute difference in income per capita between User and Friend NUTS 2\n",
    "\n",
    "  Note that the SCI data contains GADM areas, please only keep the NUTS 2 to NUTS 2 rows. Keeps all rows in the SCI data.\n"
   ]
  },
  {
   "cell_type": "code",
   "execution_count": null,
   "metadata": {},
   "outputs": [],
   "source": []
  },
  {
   "cell_type": "markdown",
   "metadata": {
    "id": "NKWIuCArMWSt"
   },
   "source": [
    "## Descriptive Statistics"
   ]
  },
  {
   "cell_type": "markdown",
   "metadata": {
    "id": "aNhlzFLSMWSu"
   },
   "source": [
    "\n",
    "1.   Each country is represented by the first two letters of the NUTS 2 index. Present a country-level population-weighted summary table for the percent people with tertiary education and income per capita in 2019. Include the mean, standard deviation, min, and max. Round all numeric outputs to two decimal places."
   ]
  },
  {
   "cell_type": "code",
   "execution_count": null,
   "metadata": {
    "colab": {
     "base_uri": "https://localhost:8080/",
     "height": 269
    },
    "id": "CTek628Fyll0",
    "outputId": "f90276e6-f694-4def-a50b-b47e862a8f20"
   },
   "outputs": [],
   "source": []
  },
  {
   "cell_type": "markdown",
   "metadata": {
    "id": "ovRerAJj50Vn"
   },
   "source": [
    "2. The SCI is scaled from 1 to 1,000,000 and measures the relative probability of a Facebook friendship link ([source](https://data.humdata.org/dataset/social-connectedness-index?)). If a number is two times higher, then a friendship link between two users from those NUTS 2 regions is twice as likely. Calculate  the mean, std, min, and max of log(scaled SCI) by country and merge it with the summary table from the previous part."
   ]
  },
  {
   "cell_type": "code",
   "execution_count": null,
   "metadata": {
    "colab": {
     "base_uri": "https://localhost:8080/",
     "height": 269
    },
    "id": "siMC7xs521kC",
    "outputId": "77aab399-f091-405c-fcfd-9cf3cc34e0dc"
   },
   "outputs": [],
   "source": []
  },
  {
   "cell_type": "markdown",
   "metadata": {
    "id": "jRZp8vI2yzYQ"
   },
   "source": [
    "3. Compute the correlation between log(scaled SCI), log(distance), user region education and income, as well as differences in education and income between NUTS 2 regions. Is it higher or lower than what you expected?"
   ]
  },
  {
   "cell_type": "code",
   "execution_count": null,
   "metadata": {
    "colab": {
     "base_uri": "https://localhost:8080/",
     "height": 238
    },
    "id": "2AdGb98BE1Yo",
    "outputId": "e29d044a-bf65-4bf7-f225-bfd273429127"
   },
   "outputs": [],
   "source": []
  },
  {
   "cell_type": "markdown",
   "metadata": {
    "id": "SXC8wfNGMWSv"
   },
   "source": [
    "## Data Visualization"
   ]
  },
  {
   "cell_type": "markdown",
   "metadata": {
    "id": "sYYnGL5GMWSv"
   },
   "source": [
    "1. We will ask you to plot two maps of social connections of (1) a country and (2) a NUTS 2 region to all other NUTS 2 regions. Remember the French islands should be dropped (these islands are far away from continental Europe and will therefore make the maps harder to visualize).\n",
    "\n",
    "  * For the chosen country, aggregate the SCI to produce country to NUTS 2 region measures. Scaled SCI can be aggregated correctly using population shares following [SCI documentation](https://data.humdata.org/dataset/social-connectedness-index). For countries $i, j$ with regions $\\{r_i\\}, \\{r_j\\}$, aggregate SCI is given by:\n",
    "\n",
    "  $$SCI_{i,j} = \\sum_{\\{r_i\\}}\\sum_{\\{r_j\\}} PopShare_{r_i} \\times PopShare_{r_j} \\times SCI_{r_i, r_j}$$\n",
    "\n",
    "  where $PopShare_{r_i}$ is the share of country $i$'s population in region $r_i$.\n",
    "\n",
    "  * Merge the aggregated SCI data with the GeoDataFrame (keep only NUTS 2 regions) for the applicable geographies.\n",
    "  * Construct the bins for the map legend by first selecting a baseline SCI cutoff (e.g. 20th percentile of the **total data** that you are working with). Then calculate the subsequent cutoffs as $2\\times$, $3\\times$, $5\\times$, $10\\times$, $25\\times$, $100\\times, 1000\\times$ that of the baseline cutoff. Feel free to use another legend system as long as there is justification.\n",
    "  * Map directly using the GeoPandas library, or feel free to explore interactive maps in Plotly.\n",
    "\n",
    "  Recall the principles of software engineering (consider writing a function for code that may be reused)."
   ]
  },
  {
   "cell_type": "code",
   "execution_count": null,
   "metadata": {
    "colab": {
     "base_uri": "https://localhost:8080/",
     "height": 206
    },
    "id": "Km8jsk1RkOpY",
    "outputId": "81a2f794-9f07-4b56-f764-1619cd8a3f6c"
   },
   "outputs": [],
   "source": []
  },
  {
   "cell_type": "markdown",
   "metadata": {
    "id": "5_HNgLCWu04X"
   },
   "source": [
    "2. Show the relationship between log SCI and log distance in a figure. Highlight the points of at least one user geography (country or NUTS 2). Fit a curve to the data and plot it along with the scatterplot."
   ]
  },
  {
   "cell_type": "code",
   "execution_count": null,
   "metadata": {
    "colab": {
     "base_uri": "https://localhost:8080/",
     "height": 472
    },
    "id": "XavdL98zmzR4",
    "outputId": "63b24951-529e-42a0-f27c-fa9a9f164e67"
   },
   "outputs": [],
   "source": []
  },
  {
   "cell_type": "markdown",
   "metadata": {
    "id": "qBObMHkKvRoG"
   },
   "source": [
    "3. Visualize the distributions of log SCI by income bin (e.g. low, medium, high) of the user region. Comment."
   ]
  },
  {
   "cell_type": "code",
   "execution_count": null,
   "metadata": {
    "colab": {
     "base_uri": "https://localhost:8080/",
     "height": 564
    },
    "id": "EbrKuC1IwoPW",
    "outputId": "b6d58629-0fed-4d3a-b0bf-1ec41f745276"
   },
   "outputs": [],
   "source": []
  },
  {
   "cell_type": "markdown",
   "metadata": {
    "id": "rP9aGapzLp_R"
   },
   "source": [
    "Bonus: Explore the data and feel free to visualize whatever you would like. Make sure you understand the variables and compute summary statistics."
   ]
  },
  {
   "cell_type": "code",
   "execution_count": null,
   "metadata": {},
   "outputs": [],
   "source": []
  },
  {
   "cell_type": "markdown",
   "metadata": {
    "id": "gCuM9ND8MWSv"
   },
   "source": [
    "# Submission ⭐\n",
    "\n",
    "Congratulations you finished Module 2! We will handle all exercise submissions on GitHub Classroom. Please push your changes to your team repository folder on GitHub Classroom."
   ]
  }
 ],
 "metadata": {
  "colab": {
   "provenance": []
  },
  "kernelspec": {
   "display_name": "Python 3 (ipykernel)",
   "language": "python",
   "name": "python3"
  },
  "language_info": {
   "codemirror_mode": {
    "name": "ipython",
    "version": 3
   },
   "file_extension": ".py",
   "mimetype": "text/x-python",
   "name": "python",
   "nbconvert_exporter": "python",
   "pygments_lexer": "ipython3",
   "version": "3.11.5"
  }
 },
 "nbformat": 4,
 "nbformat_minor": 4
}
